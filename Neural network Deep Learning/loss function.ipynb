{
 "cells": [
  {
   "cell_type": "code",
   "execution_count": 1,
   "id": "0da1e0db",
   "metadata": {},
   "outputs": [],
   "source": [
    "import numpy as np"
   ]
  },
  {
   "cell_type": "code",
   "execution_count": 2,
   "id": "18e7fad1",
   "metadata": {},
   "outputs": [],
   "source": [
    "y_pred = np.array([1,1,0,0,1])\n",
    "y_true = np.array([0.30, 0.7,1,0,0.5])"
   ]
  },
  {
   "cell_type": "code",
   "execution_count": 7,
   "id": "4833d34f",
   "metadata": {},
   "outputs": [],
   "source": [
    "#Mean Absolue Error(MAE)\n",
    "def mae(y_true, y_pred):\n",
    "    total_error = 0\n",
    "    for yt, yp in zip(y_true, y_pred):\n",
    "        total_error += abs(yt - yp)\n",
    "    print(\"Total error : \", total_error)\n",
    "    mae = total_error / len(y_true)\n",
    "    print(\"MAE : \", mae)\n",
    "    return mae"
   ]
  },
  {
   "cell_type": "code",
   "execution_count": 8,
   "id": "0f0200e4",
   "metadata": {},
   "outputs": [
    {
     "name": "stdout",
     "output_type": "stream",
     "text": [
      "Total error :  2.5\n",
      "MAE :  0.5\n"
     ]
    },
    {
     "data": {
      "text/plain": [
       "0.5"
      ]
     },
     "execution_count": 8,
     "metadata": {},
     "output_type": "execute_result"
    }
   ],
   "source": [
    "mae(y_true, y_pred)"
   ]
  },
  {
   "cell_type": "code",
   "execution_count": 9,
   "id": "423c5e83",
   "metadata": {},
   "outputs": [
    {
     "data": {
      "text/plain": [
       "0.5"
      ]
     },
     "execution_count": 9,
     "metadata": {},
     "output_type": "execute_result"
    }
   ],
   "source": [
    "#we can easily do it by numpy\n",
    "np.mean(np.abs(y_true - y_pred))"
   ]
  },
  {
   "cell_type": "code",
   "execution_count": null,
   "id": "58e18fc2",
   "metadata": {},
   "outputs": [],
   "source": [
    "#log loss / Binary cross entropy loss funtion\n"
   ]
  }
 ],
 "metadata": {
  "kernelspec": {
   "display_name": "Python 3 (ipykernel)",
   "language": "python",
   "name": "python3"
  },
  "language_info": {
   "codemirror_mode": {
    "name": "ipython",
    "version": 3
   },
   "file_extension": ".py",
   "mimetype": "text/x-python",
   "name": "python",
   "nbconvert_exporter": "python",
   "pygments_lexer": "ipython3",
   "version": "3.9.7"
  }
 },
 "nbformat": 4,
 "nbformat_minor": 5
}
