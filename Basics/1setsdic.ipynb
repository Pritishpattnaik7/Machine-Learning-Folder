{
 "cells": [
  {
   "cell_type": "code",
   "execution_count": 1,
   "id": "5550480a",
   "metadata": {},
   "outputs": [],
   "source": [
    "#Sets , Dictonaries , Tuples\n",
    "\n",
    "#Sets\n",
    "#It is an unordered collection of data type that is iteratable , mutable and has no duplicate elements\n",
    "#It is based on Hash tables\n",
    "# representated by {}\n",
    "#Does not support indexing"
   ]
  },
  {
   "cell_type": "code",
   "execution_count": 2,
   "id": "a080e762",
   "metadata": {},
   "outputs": [
    {
     "name": "stdout",
     "output_type": "stream",
     "text": [
      "set()\n"
     ]
    },
    {
     "data": {
      "text/plain": [
       "set"
      ]
     },
     "execution_count": 2,
     "metadata": {},
     "output_type": "execute_result"
    }
   ],
   "source": [
    "set_var = set()\n",
    "print(set_var)\n",
    "type(set_var)"
   ]
  },
  {
   "cell_type": "code",
   "execution_count": 12,
   "id": "ba4493b5",
   "metadata": {},
   "outputs": [
    {
     "name": "stdout",
     "output_type": "stream",
     "text": [
      "{'Hulk', 'Captain America', 'Iron Man', 'Spiderman'}\n"
     ]
    }
   ],
   "source": [
    "avengers = {\"Iron Man\" , \"Spiderman\", \"Captain America\" , \"Hulk\"}\n",
    "print(avengers)"
   ]
  },
  {
   "cell_type": "code",
   "execution_count": 6,
   "id": "7469d825",
   "metadata": {},
   "outputs": [
    {
     "data": {
      "text/plain": [
       "set"
      ]
     },
     "execution_count": 6,
     "metadata": {},
     "output_type": "execute_result"
    }
   ],
   "source": [
    "type(s)"
   ]
  },
  {
   "cell_type": "code",
   "execution_count": 8,
   "id": "0d8cc41c",
   "metadata": {},
   "outputs": [
    {
     "name": "stdout",
     "output_type": "stream",
     "text": [
      "{1, 2, 3}\n"
     ]
    }
   ],
   "source": [
    "s1 = {1,2,3,3,2}   #prints only unique elements\n",
    "print(s1)"
   ]
  },
  {
   "cell_type": "code",
   "execution_count": 10,
   "id": "22db4881",
   "metadata": {},
   "outputs": [
    {
     "ename": "TypeError",
     "evalue": "'set' object is not subscriptable",
     "output_type": "error",
     "traceback": [
      "\u001b[1;31m---------------------------------------------------------------------------\u001b[0m",
      "\u001b[1;31mTypeError\u001b[0m                                 Traceback (most recent call last)",
      "\u001b[1;32m<ipython-input-10-c9c96910e542>\u001b[0m in \u001b[0;36m<module>\u001b[1;34m\u001b[0m\n\u001b[1;32m----> 1\u001b[1;33m \u001b[0ms\u001b[0m\u001b[1;33m[\u001b[0m\u001b[1;36m0\u001b[0m\u001b[1;33m]\u001b[0m\u001b[1;33m\u001b[0m\u001b[1;33m\u001b[0m\u001b[0m\n\u001b[0m",
      "\u001b[1;31mTypeError\u001b[0m: 'set' object is not subscriptable"
     ]
    }
   ],
   "source": [
    "s[0] #No indexing in sets"
   ]
  },
  {
   "cell_type": "code",
   "execution_count": 13,
   "id": "da25acfd",
   "metadata": {},
   "outputs": [],
   "source": [
    "#inbuilt functions\n",
    "\n",
    "avengers.add(\"Black Widow\")"
   ]
  },
  {
   "cell_type": "code",
   "execution_count": 14,
   "id": "31dd5e3d",
   "metadata": {},
   "outputs": [
    {
     "name": "stdout",
     "output_type": "stream",
     "text": [
      "{'Iron Man', 'Black Widow', 'Spiderman', 'Captain America', 'Hulk'}\n"
     ]
    }
   ],
   "source": [
    "print(avengers)"
   ]
  },
  {
   "cell_type": "code",
   "execution_count": 15,
   "id": "982c79a7",
   "metadata": {},
   "outputs": [],
   "source": [
    "set1 = {\"Apple\", \"Banana\" , \"Mango\"}\n",
    "set2 = {\"Apple\", \"Banana\" , \"Mango\", \"Litchi\"}"
   ]
  },
  {
   "cell_type": "code",
   "execution_count": 16,
   "id": "8e1087a2",
   "metadata": {},
   "outputs": [
    {
     "data": {
      "text/plain": [
       "{'Litchi'}"
      ]
     },
     "execution_count": 16,
     "metadata": {},
     "output_type": "execute_result"
    }
   ],
   "source": [
    "#difference => removes the common elements (But not updated in set 2)\n",
    "\n",
    "set2.difference(set1)"
   ]
  },
  {
   "cell_type": "code",
   "execution_count": 17,
   "id": "a239ab86",
   "metadata": {},
   "outputs": [
    {
     "name": "stdout",
     "output_type": "stream",
     "text": [
      "{'Mango', 'Apple', 'Litchi', 'Banana'}\n"
     ]
    }
   ],
   "source": [
    "print(set2)"
   ]
  },
  {
   "cell_type": "code",
   "execution_count": 18,
   "id": "511d6ccd",
   "metadata": {},
   "outputs": [],
   "source": [
    "set2.difference_update(set1)      #=>here the changes are reflected to set 2"
   ]
  },
  {
   "cell_type": "code",
   "execution_count": 19,
   "id": "a067295c",
   "metadata": {},
   "outputs": [
    {
     "name": "stdout",
     "output_type": "stream",
     "text": [
      "{'Litchi'}\n"
     ]
    }
   ],
   "source": [
    "print(set2)"
   ]
  },
  {
   "cell_type": "code",
   "execution_count": 20,
   "id": "899af6dd",
   "metadata": {},
   "outputs": [],
   "source": [
    "set1 = {\"Apple\", \"Banana\" , \"Mango\"}\n",
    "set2 = {\"Apple\", \"Banana\" , \"Mango\", \"Litchi\"}"
   ]
  },
  {
   "cell_type": "code",
   "execution_count": 21,
   "id": "00f59da0",
   "metadata": {},
   "outputs": [
    {
     "data": {
      "text/plain": [
       "{'Apple', 'Banana', 'Mango'}"
      ]
     },
     "execution_count": 21,
     "metadata": {},
     "output_type": "execute_result"
    }
   ],
   "source": [
    "set2.intersection_update(set1)\n",
    "set2"
   ]
  },
  {
   "cell_type": "code",
   "execution_count": null,
   "id": "03bba387",
   "metadata": {},
   "outputs": [],
   "source": []
  },
  {
   "cell_type": "code",
   "execution_count": null,
   "id": "87bbe77b",
   "metadata": {},
   "outputs": [],
   "source": [
    "#Dictonaries\n",
    "#it contain key value pairs as elements"
   ]
  },
  {
   "cell_type": "code",
   "execution_count": 22,
   "id": "286e400b",
   "metadata": {},
   "outputs": [
    {
     "data": {
      "text/plain": [
       "dict"
      ]
     },
     "execution_count": 22,
     "metadata": {},
     "output_type": "execute_result"
    }
   ],
   "source": [
    "dic = {}\n",
    "type(dic)"
   ]
  },
  {
   "cell_type": "code",
   "execution_count": 23,
   "id": "4b466af7",
   "metadata": {},
   "outputs": [
    {
     "data": {
      "text/plain": [
       "dict"
      ]
     },
     "execution_count": 23,
     "metadata": {},
     "output_type": "execute_result"
    }
   ],
   "source": [
    "d = dict()\n",
    "type(d)"
   ]
  },
  {
   "cell_type": "code",
   "execution_count": 24,
   "id": "2a2c81bf",
   "metadata": {},
   "outputs": [
    {
     "data": {
      "text/plain": [
       "dict"
      ]
     },
     "execution_count": 24,
     "metadata": {},
     "output_type": "execute_result"
    }
   ],
   "source": [
    "type(dict())"
   ]
  },
  {
   "cell_type": "code",
   "execution_count": 25,
   "id": "67515e0e",
   "metadata": {},
   "outputs": [],
   "source": [
    "#creating a dictionary\n",
    "\n",
    "myCars = {\"car1\":\"BMW\", \"car2\":\"Audi\" , \"car3\":\"Mercedes\", \"car4\":\"Range Rover\"}"
   ]
  },
  {
   "cell_type": "code",
   "execution_count": 26,
   "id": "fc276218",
   "metadata": {},
   "outputs": [
    {
     "data": {
      "text/plain": [
       "dict"
      ]
     },
     "execution_count": 26,
     "metadata": {},
     "output_type": "execute_result"
    }
   ],
   "source": [
    "type(myCars)"
   ]
  },
  {
   "cell_type": "code",
   "execution_count": 28,
   "id": "df620a10",
   "metadata": {},
   "outputs": [
    {
     "name": "stdout",
     "output_type": "stream",
     "text": [
      "BMW\n"
     ]
    }
   ],
   "source": [
    "print(myCars[\"car1\"])"
   ]
  },
  {
   "cell_type": "code",
   "execution_count": 29,
   "id": "21310a09",
   "metadata": {},
   "outputs": [
    {
     "name": "stdout",
     "output_type": "stream",
     "text": [
      "car1\n",
      "car2\n",
      "car3\n",
      "car4\n"
     ]
    }
   ],
   "source": [
    "for x in myCars:\n",
    "    print(x)"
   ]
  },
  {
   "cell_type": "code",
   "execution_count": 30,
   "id": "7c85e1eb",
   "metadata": {},
   "outputs": [
    {
     "name": "stdout",
     "output_type": "stream",
     "text": [
      "BMW\n",
      "Audi\n",
      "Mercedes\n",
      "Range Rover\n"
     ]
    }
   ],
   "source": [
    "for x in myCars:\n",
    "    print(myCars[x])"
   ]
  },
  {
   "cell_type": "code",
   "execution_count": 31,
   "id": "3ec5d774",
   "metadata": {},
   "outputs": [
    {
     "name": "stdout",
     "output_type": "stream",
     "text": [
      "BMW\n",
      "Audi\n",
      "Mercedes\n",
      "Range Rover\n"
     ]
    }
   ],
   "source": [
    "for x in myCars.values():\n",
    "    print(x)"
   ]
  },
  {
   "cell_type": "code",
   "execution_count": 32,
   "id": "d6789d82",
   "metadata": {},
   "outputs": [
    {
     "name": "stdout",
     "output_type": "stream",
     "text": [
      "('car1', 'BMW')\n",
      "('car2', 'Audi')\n",
      "('car3', 'Mercedes')\n",
      "('car4', 'Range Rover')\n"
     ]
    }
   ],
   "source": [
    "#we can check both keys and values\n",
    "for x in myCars.items():\n",
    "    print(x)"
   ]
  },
  {
   "cell_type": "code",
   "execution_count": 33,
   "id": "6ff9a976",
   "metadata": {},
   "outputs": [],
   "source": [
    "#apending elements\n",
    "myCars[\"car4\"] = \"Porsche\""
   ]
  },
  {
   "cell_type": "code",
   "execution_count": 34,
   "id": "5f287397",
   "metadata": {},
   "outputs": [
    {
     "data": {
      "text/plain": [
       "{'car1': 'BMW', 'car2': 'Audi', 'car3': 'Mercedes', 'car4': 'Porsche'}"
      ]
     },
     "execution_count": 34,
     "metadata": {},
     "output_type": "execute_result"
    }
   ],
   "source": [
    "myCars"
   ]
  },
  {
   "cell_type": "code",
   "execution_count": 35,
   "id": "0ec349fb",
   "metadata": {},
   "outputs": [],
   "source": [
    "#update the value\n",
    "\n",
    "myCars[\"car2\"] = \"Jaguar\""
   ]
  },
  {
   "cell_type": "code",
   "execution_count": 36,
   "id": "b826e866",
   "metadata": {},
   "outputs": [
    {
     "data": {
      "text/plain": [
       "{'car1': 'BMW', 'car2': 'Jaguar', 'car3': 'Mercedes', 'car4': 'Porsche'}"
      ]
     },
     "execution_count": 36,
     "metadata": {},
     "output_type": "execute_result"
    }
   ],
   "source": [
    "myCars"
   ]
  },
  {
   "cell_type": "code",
   "execution_count": 38,
   "id": "a8c40677",
   "metadata": {},
   "outputs": [
    {
     "name": "stdout",
     "output_type": "stream",
     "text": [
      "{'car1': {'Mercedes': 1998}, 'car2': {'BMW': 2009}, 'car3': {'Audi': 2018}}\n"
     ]
    }
   ],
   "source": [
    "#nested dictionaries\n",
    "\n",
    "car1_model = {\"Mercedes\" : 1998}\n",
    "car2_model = {\"BMW\" : 2009}\n",
    "car3_model = {\"Audi\" : 2018}\n",
    "\n",
    "car_type = {\"car1\":car1_model , \"car2\":car2_model , \"car3\":car3_model}\n",
    "print(car_type)"
   ]
  },
  {
   "cell_type": "code",
   "execution_count": 39,
   "id": "7baef5f6",
   "metadata": {},
   "outputs": [
    {
     "name": "stdout",
     "output_type": "stream",
     "text": [
      "{'Mercedes': 1998}\n"
     ]
    }
   ],
   "source": [
    "print(car_type[\"car1\"])"
   ]
  },
  {
   "cell_type": "code",
   "execution_count": 40,
   "id": "3ea910bb",
   "metadata": {},
   "outputs": [
    {
     "name": "stdout",
     "output_type": "stream",
     "text": [
      "1998\n"
     ]
    }
   ],
   "source": [
    "print(car_type[\"car1\"][\"Mercedes\"])"
   ]
  },
  {
   "cell_type": "code",
   "execution_count": null,
   "id": "9c05bd14",
   "metadata": {},
   "outputs": [],
   "source": []
  },
  {
   "cell_type": "code",
   "execution_count": 41,
   "id": "61cab515",
   "metadata": {},
   "outputs": [],
   "source": [
    "#Tuples\n",
    "#not mutable"
   ]
  },
  {
   "cell_type": "code",
   "execution_count": 42,
   "id": "694b343f",
   "metadata": {},
   "outputs": [],
   "source": [
    "t = tuple()"
   ]
  },
  {
   "cell_type": "code",
   "execution_count": 43,
   "id": "6b385954",
   "metadata": {},
   "outputs": [
    {
     "data": {
      "text/plain": [
       "tuple"
      ]
     },
     "execution_count": 43,
     "metadata": {},
     "output_type": "execute_result"
    }
   ],
   "source": [
    "type(t)"
   ]
  },
  {
   "cell_type": "code",
   "execution_count": 10,
   "id": "6dbd4388",
   "metadata": {},
   "outputs": [],
   "source": [
    "i = 2"
   ]
  },
  {
   "cell_type": "code",
   "execution_count": 11,
   "id": "740cf074",
   "metadata": {},
   "outputs": [],
   "source": [
    "var = 2"
   ]
  },
  {
   "cell_type": "code",
   "execution_count": 12,
   "id": "9be0d485",
   "metadata": {},
   "outputs": [
    {
     "name": "stdout",
     "output_type": "stream",
     "text": [
      "2\n"
     ]
    }
   ],
   "source": [
    "print(var)"
   ]
  },
  {
   "cell_type": "code",
   "execution_count": 13,
   "id": "981d0457",
   "metadata": {},
   "outputs": [
    {
     "name": "stdout",
     "output_type": "stream",
     "text": [
      "Noicee\n"
     ]
    }
   ],
   "source": [
    "if (i and var == 2):\n",
    "    print(\"Noicee\")\n",
    "elif (i > 5):\n",
    "    print(\"Oh yeah\")\n",
    "else:\n",
    "    print(\"Fuck\")\n",
    "    "
   ]
  },
  {
   "cell_type": "code",
   "execution_count": 14,
   "id": "b1ab068c",
   "metadata": {},
   "outputs": [],
   "source": [
    "l = [1,2,3,4,5]"
   ]
  },
  {
   "cell_type": "code",
   "execution_count": 17,
   "id": "9f8270eb",
   "metadata": {},
   "outputs": [
    {
     "name": "stdout",
     "output_type": "stream",
     "text": [
      "1\n",
      "2\n",
      "3\n",
      "4\n",
      "5\n"
     ]
    }
   ],
   "source": [
    "for x2 in l:\n",
    "    print(x2)"
   ]
  },
  {
   "cell_type": "code",
   "execution_count": 22,
   "id": "bb115766",
   "metadata": {},
   "outputs": [],
   "source": [
    "a = 4\n",
    "b = 7\n",
    "def add2(a, b):\n",
    "    return (a+b)"
   ]
  },
  {
   "cell_type": "code",
   "execution_count": 25,
   "id": "fd658794",
   "metadata": {},
   "outputs": [],
   "source": [
    "sum = add2(7,7)"
   ]
  },
  {
   "cell_type": "code",
   "execution_count": 26,
   "id": "f8b3d61a",
   "metadata": {},
   "outputs": [
    {
     "name": "stdout",
     "output_type": "stream",
     "text": [
      "14\n"
     ]
    }
   ],
   "source": [
    "print(sum)"
   ]
  },
  {
   "cell_type": "code",
   "execution_count": 27,
   "id": "99e10707",
   "metadata": {},
   "outputs": [],
   "source": [
    "#lamda functions"
   ]
  },
  {
   "cell_type": "code",
   "execution_count": 28,
   "id": "b5611fda",
   "metadata": {},
   "outputs": [],
   "source": [
    "findSquare = lambda x : x*x"
   ]
  },
  {
   "cell_type": "code",
   "execution_count": 30,
   "id": "49b49643",
   "metadata": {},
   "outputs": [
    {
     "name": "stdout",
     "output_type": "stream",
     "text": [
      "81\n"
     ]
    }
   ],
   "source": [
    "print(findSquare(9))"
   ]
  },
  {
   "cell_type": "code",
   "execution_count": 31,
   "id": "e51ef954",
   "metadata": {},
   "outputs": [],
   "source": [
    "findSum = lambda a,b : a+b"
   ]
  },
  {
   "cell_type": "code",
   "execution_count": 32,
   "id": "8238868f",
   "metadata": {},
   "outputs": [
    {
     "data": {
      "text/plain": [
       "9"
      ]
     },
     "execution_count": 32,
     "metadata": {},
     "output_type": "execute_result"
    }
   ],
   "source": [
    "findSum(4,5)"
   ]
  },
  {
   "cell_type": "code",
   "execution_count": null,
   "id": "9a6815a4",
   "metadata": {},
   "outputs": [],
   "source": []
  }
 ],
 "metadata": {
  "kernelspec": {
   "display_name": "Python 3",
   "language": "python",
   "name": "python3"
  },
  "language_info": {
   "codemirror_mode": {
    "name": "ipython",
    "version": 3
   },
   "file_extension": ".py",
   "mimetype": "text/x-python",
   "name": "python",
   "nbconvert_exporter": "python",
   "pygments_lexer": "ipython3",
   "version": "3.9.5"
  }
 },
 "nbformat": 4,
 "nbformat_minor": 5
}
