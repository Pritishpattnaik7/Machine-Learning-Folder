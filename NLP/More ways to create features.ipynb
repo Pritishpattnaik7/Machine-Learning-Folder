{
 "cells": [
  {
   "cell_type": "markdown",
   "id": "e71717c7",
   "metadata": {},
   "source": [
    "# More ways to create features"
   ]
  },
  {
   "cell_type": "code",
   "execution_count": 1,
   "id": "b66a267b",
   "metadata": {},
   "outputs": [],
   "source": [
    "#Unigrams\n",
    "#Biagrams , trigrams\n",
    "#n-grams"
   ]
  },
  {
   "cell_type": "code",
   "execution_count": 2,
   "id": "528d26d9",
   "metadata": {},
   "outputs": [],
   "source": [
    "from sklearn.feature_extraction.text import CountVectorizer"
   ]
  },
  {
   "cell_type": "code",
   "execution_count": 3,
   "id": "3b57794a",
   "metadata": {},
   "outputs": [],
   "source": [
    "cv = CountVectorizer()"
   ]
  },
  {
   "cell_type": "code",
   "execution_count": 4,
   "id": "366adb93",
   "metadata": {},
   "outputs": [],
   "source": [
    "sent_1 = [\"This is a good movie.\"]\n",
    "sent_2 = [\"This is not a good movie\"]"
   ]
  },
  {
   "cell_type": "code",
   "execution_count": 5,
   "id": "71280d37",
   "metadata": {},
   "outputs": [
    {
     "data": {
      "text/plain": [
       "array([[1, 1, 1, 0, 1],\n",
       "       [1, 1, 1, 1, 1]], dtype=int64)"
      ]
     },
     "execution_count": 5,
     "metadata": {},
     "output_type": "execute_result"
    }
   ],
   "source": [
    "docs = [sent_1[0], sent_2[0]]\n",
    "cv.fit_transform(docs).toarray()"
   ]
  },
  {
   "cell_type": "code",
   "execution_count": 7,
   "id": "bc52fd2e",
   "metadata": {},
   "outputs": [],
   "source": [
    "#here there will be confusion in prediction by the classifier , so we use bigrams , trigrams etc"
   ]
  },
  {
   "cell_type": "code",
   "execution_count": 8,
   "id": "a69e0496",
   "metadata": {},
   "outputs": [
    {
     "data": {
      "text/plain": [
       "{'this': 4, 'is': 1, 'good': 0, 'movie': 2, 'not': 3}"
      ]
     },
     "execution_count": 8,
     "metadata": {},
     "output_type": "execute_result"
    }
   ],
   "source": [
    "cv.vocabulary_"
   ]
  },
  {
   "cell_type": "code",
   "execution_count": 9,
   "id": "81149cd6",
   "metadata": {},
   "outputs": [
    {
     "data": {
      "text/plain": [
       "array([[1, 1, 0, 0, 1],\n",
       "       [1, 0, 1, 1, 1]], dtype=int64)"
      ]
     },
     "execution_count": 9,
     "metadata": {},
     "output_type": "execute_result"
    }
   ],
   "source": [
    "#Bigrams\n",
    "cv1 = CountVectorizer(ngram_range=(2,2))\n",
    "cv1.fit_transform(docs).toarray()"
   ]
  },
  {
   "cell_type": "code",
   "execution_count": 12,
   "id": "b5e5368c",
   "metadata": {},
   "outputs": [
    {
     "data": {
      "text/plain": [
       "{'this is': 4, 'is good': 1, 'good movie': 0, 'is not': 2, 'not good': 3}"
      ]
     },
     "execution_count": 12,
     "metadata": {},
     "output_type": "execute_result"
    }
   ],
   "source": [
    "cv1.vocabulary_"
   ]
  },
  {
   "cell_type": "code",
   "execution_count": null,
   "id": "5da871f5",
   "metadata": {},
   "outputs": [],
   "source": []
  }
 ],
 "metadata": {
  "kernelspec": {
   "display_name": "Python 3",
   "language": "python",
   "name": "python3"
  },
  "language_info": {
   "codemirror_mode": {
    "name": "ipython",
    "version": 3
   },
   "file_extension": ".py",
   "mimetype": "text/x-python",
   "name": "python",
   "nbconvert_exporter": "python",
   "pygments_lexer": "ipython3",
   "version": "3.9.5"
  }
 },
 "nbformat": 4,
 "nbformat_minor": 5
}
