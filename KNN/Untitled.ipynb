{
 "cells": [
  {
   "cell_type": "markdown",
   "id": "679ec212",
   "metadata": {},
   "source": [
    "# Diabetes dataset"
   ]
  },
  {
   "cell_type": "code",
   "execution_count": 1,
   "id": "6c858d4e",
   "metadata": {},
   "outputs": [],
   "source": [
    "import numpy as np\n",
    "import pandas as pd\n",
    "import matplotlib.pyplot as plt"
   ]
  },
  {
   "cell_type": "markdown",
   "id": "dd58a421",
   "metadata": {},
   "source": [
    "## step 1 - data prep"
   ]
  },
  {
   "cell_type": "code",
   "execution_count": 2,
   "id": "bd8286da",
   "metadata": {},
   "outputs": [],
   "source": [
    "dfx = pd.read_csv(\"Diabetes_XTrain.csv\")\n",
    "dfy = pd.read_csv(\"Diabetes_YTrain.csv\")"
   ]
  },
  {
   "cell_type": "code",
   "execution_count": 4,
   "id": "818d339a",
   "metadata": {},
   "outputs": [],
   "source": [
    "X = dfx.values\n",
    "Y = dfy.values"
   ]
  },
  {
   "cell_type": "code",
   "execution_count": 5,
   "id": "6e2a9a3a",
   "metadata": {},
   "outputs": [
    {
     "name": "stdout",
     "output_type": "stream",
     "text": [
      "(576, 8)\n",
      "(576, 1)\n"
     ]
    }
   ],
   "source": [
    "print(X.shape)\n",
    "print(Y.shape)"
   ]
  },
  {
   "cell_type": "code",
   "execution_count": 6,
   "id": "fb94e619",
   "metadata": {},
   "outputs": [],
   "source": [
    "Y = Y.reshape(576,)"
   ]
  },
  {
   "cell_type": "code",
   "execution_count": 7,
   "id": "85dfeaf7",
   "metadata": {},
   "outputs": [
    {
     "data": {
      "text/plain": [
       "(576,)"
      ]
     },
     "execution_count": 7,
     "metadata": {},
     "output_type": "execute_result"
    }
   ],
   "source": [
    "Y.shape"
   ]
  },
  {
   "cell_type": "code",
   "execution_count": 8,
   "id": "b5279939",
   "metadata": {},
   "outputs": [
    {
     "name": "stdout",
     "output_type": "stream",
     "text": [
      "[[  7.    168.     88.    ...  38.2     0.787  40.   ]\n",
      " [  8.    110.     76.    ...  27.8     0.237  58.   ]\n",
      " [  7.    147.     76.    ...  39.4     0.257  43.   ]\n",
      " ...\n",
      " [  2.    122.     60.    ...  29.8     0.717  22.   ]\n",
      " [  4.    154.     72.    ...  31.3     0.338  37.   ]\n",
      " [  1.     88.     78.    ...  32.      0.365  29.   ]]\n"
     ]
    }
   ],
   "source": [
    "print(X)"
   ]
  },
  {
   "cell_type": "code",
   "execution_count": 9,
   "id": "2b2432de",
   "metadata": {},
   "outputs": [
    {
     "data": {
      "text/html": [
       "<div>\n",
       "<style scoped>\n",
       "    .dataframe tbody tr th:only-of-type {\n",
       "        vertical-align: middle;\n",
       "    }\n",
       "\n",
       "    .dataframe tbody tr th {\n",
       "        vertical-align: top;\n",
       "    }\n",
       "\n",
       "    .dataframe thead th {\n",
       "        text-align: right;\n",
       "    }\n",
       "</style>\n",
       "<table border=\"1\" class=\"dataframe\">\n",
       "  <thead>\n",
       "    <tr style=\"text-align: right;\">\n",
       "      <th></th>\n",
       "      <th>Pregnancies</th>\n",
       "      <th>Glucose</th>\n",
       "      <th>BloodPressure</th>\n",
       "      <th>SkinThickness</th>\n",
       "      <th>Insulin</th>\n",
       "      <th>BMI</th>\n",
       "      <th>DiabetesPedigreeFunction</th>\n",
       "      <th>Age</th>\n",
       "    </tr>\n",
       "  </thead>\n",
       "  <tbody>\n",
       "    <tr>\n",
       "      <th>0</th>\n",
       "      <td>7</td>\n",
       "      <td>168</td>\n",
       "      <td>88</td>\n",
       "      <td>42</td>\n",
       "      <td>321</td>\n",
       "      <td>38.2</td>\n",
       "      <td>0.787</td>\n",
       "      <td>40</td>\n",
       "    </tr>\n",
       "    <tr>\n",
       "      <th>1</th>\n",
       "      <td>8</td>\n",
       "      <td>110</td>\n",
       "      <td>76</td>\n",
       "      <td>0</td>\n",
       "      <td>0</td>\n",
       "      <td>27.8</td>\n",
       "      <td>0.237</td>\n",
       "      <td>58</td>\n",
       "    </tr>\n",
       "    <tr>\n",
       "      <th>2</th>\n",
       "      <td>7</td>\n",
       "      <td>147</td>\n",
       "      <td>76</td>\n",
       "      <td>0</td>\n",
       "      <td>0</td>\n",
       "      <td>39.4</td>\n",
       "      <td>0.257</td>\n",
       "      <td>43</td>\n",
       "    </tr>\n",
       "    <tr>\n",
       "      <th>3</th>\n",
       "      <td>2</td>\n",
       "      <td>100</td>\n",
       "      <td>66</td>\n",
       "      <td>20</td>\n",
       "      <td>90</td>\n",
       "      <td>32.9</td>\n",
       "      <td>0.867</td>\n",
       "      <td>28</td>\n",
       "    </tr>\n",
       "    <tr>\n",
       "      <th>4</th>\n",
       "      <td>4</td>\n",
       "      <td>129</td>\n",
       "      <td>86</td>\n",
       "      <td>20</td>\n",
       "      <td>270</td>\n",
       "      <td>35.1</td>\n",
       "      <td>0.231</td>\n",
       "      <td>23</td>\n",
       "    </tr>\n",
       "    <tr>\n",
       "      <th>5</th>\n",
       "      <td>7</td>\n",
       "      <td>100</td>\n",
       "      <td>0</td>\n",
       "      <td>0</td>\n",
       "      <td>0</td>\n",
       "      <td>30.0</td>\n",
       "      <td>0.484</td>\n",
       "      <td>32</td>\n",
       "    </tr>\n",
       "    <tr>\n",
       "      <th>6</th>\n",
       "      <td>4</td>\n",
       "      <td>110</td>\n",
       "      <td>66</td>\n",
       "      <td>0</td>\n",
       "      <td>0</td>\n",
       "      <td>31.9</td>\n",
       "      <td>0.471</td>\n",
       "      <td>29</td>\n",
       "    </tr>\n",
       "    <tr>\n",
       "      <th>7</th>\n",
       "      <td>1</td>\n",
       "      <td>111</td>\n",
       "      <td>86</td>\n",
       "      <td>19</td>\n",
       "      <td>0</td>\n",
       "      <td>30.1</td>\n",
       "      <td>0.143</td>\n",
       "      <td>23</td>\n",
       "    </tr>\n",
       "    <tr>\n",
       "      <th>8</th>\n",
       "      <td>3</td>\n",
       "      <td>169</td>\n",
       "      <td>74</td>\n",
       "      <td>19</td>\n",
       "      <td>125</td>\n",
       "      <td>29.9</td>\n",
       "      <td>0.268</td>\n",
       "      <td>31</td>\n",
       "    </tr>\n",
       "    <tr>\n",
       "      <th>9</th>\n",
       "      <td>1</td>\n",
       "      <td>71</td>\n",
       "      <td>62</td>\n",
       "      <td>0</td>\n",
       "      <td>0</td>\n",
       "      <td>21.8</td>\n",
       "      <td>0.416</td>\n",
       "      <td>26</td>\n",
       "    </tr>\n",
       "  </tbody>\n",
       "</table>\n",
       "</div>"
      ],
      "text/plain": [
       "   Pregnancies  Glucose  BloodPressure  SkinThickness  Insulin   BMI  \\\n",
       "0            7      168             88             42      321  38.2   \n",
       "1            8      110             76              0        0  27.8   \n",
       "2            7      147             76              0        0  39.4   \n",
       "3            2      100             66             20       90  32.9   \n",
       "4            4      129             86             20      270  35.1   \n",
       "5            7      100              0              0        0  30.0   \n",
       "6            4      110             66              0        0  31.9   \n",
       "7            1      111             86             19        0  30.1   \n",
       "8            3      169             74             19      125  29.9   \n",
       "9            1       71             62              0        0  21.8   \n",
       "\n",
       "   DiabetesPedigreeFunction  Age  \n",
       "0                     0.787   40  \n",
       "1                     0.237   58  \n",
       "2                     0.257   43  \n",
       "3                     0.867   28  \n",
       "4                     0.231   23  \n",
       "5                     0.484   32  \n",
       "6                     0.471   29  \n",
       "7                     0.143   23  \n",
       "8                     0.268   31  \n",
       "9                     0.416   26  "
      ]
     },
     "execution_count": 9,
     "metadata": {},
     "output_type": "execute_result"
    }
   ],
   "source": [
    "dfx.head(10)"
   ]
  },
  {
   "cell_type": "code",
   "execution_count": 43,
   "id": "f2499aa8",
   "metadata": {},
   "outputs": [],
   "source": [
    "from sklearn import model_selection\n",
    "X_train, X_test, Y_train, Y_test = model_selection.train_test_split(X,Y,random_state=True)"
   ]
  },
  {
   "cell_type": "code",
   "execution_count": 44,
   "id": "a6be5c5f",
   "metadata": {},
   "outputs": [
    {
     "name": "stdout",
     "output_type": "stream",
     "text": [
      "(432, 8) (432,)\n",
      "(144, 8) (144,)\n"
     ]
    }
   ],
   "source": [
    "print(X_train.shape, Y_train.shape)\n",
    "print(X_test.shape, Y_test.shape)"
   ]
  },
  {
   "cell_type": "code",
   "execution_count": 45,
   "id": "66e78676",
   "metadata": {},
   "outputs": [
    {
     "data": {
      "text/html": [
       "<div>\n",
       "<style scoped>\n",
       "    .dataframe tbody tr th:only-of-type {\n",
       "        vertical-align: middle;\n",
       "    }\n",
       "\n",
       "    .dataframe tbody tr th {\n",
       "        vertical-align: top;\n",
       "    }\n",
       "\n",
       "    .dataframe thead th {\n",
       "        text-align: right;\n",
       "    }\n",
       "</style>\n",
       "<table border=\"1\" class=\"dataframe\">\n",
       "  <thead>\n",
       "    <tr style=\"text-align: right;\">\n",
       "      <th></th>\n",
       "      <th>Outcome</th>\n",
       "    </tr>\n",
       "  </thead>\n",
       "  <tbody>\n",
       "    <tr>\n",
       "      <th>0</th>\n",
       "      <td>1</td>\n",
       "    </tr>\n",
       "    <tr>\n",
       "      <th>1</th>\n",
       "      <td>0</td>\n",
       "    </tr>\n",
       "    <tr>\n",
       "      <th>2</th>\n",
       "      <td>1</td>\n",
       "    </tr>\n",
       "    <tr>\n",
       "      <th>3</th>\n",
       "      <td>1</td>\n",
       "    </tr>\n",
       "    <tr>\n",
       "      <th>4</th>\n",
       "      <td>0</td>\n",
       "    </tr>\n",
       "  </tbody>\n",
       "</table>\n",
       "</div>"
      ],
      "text/plain": [
       "   Outcome\n",
       "0        1\n",
       "1        0\n",
       "2        1\n",
       "3        1\n",
       "4        0"
      ]
     },
     "execution_count": 45,
     "metadata": {},
     "output_type": "execute_result"
    }
   ],
   "source": [
    "dfy.head()"
   ]
  },
  {
   "cell_type": "markdown",
   "id": "ccf92916",
   "metadata": {},
   "source": [
    "## step 2 - knn algo"
   ]
  },
  {
   "cell_type": "code",
   "execution_count": 46,
   "id": "99428227",
   "metadata": {},
   "outputs": [],
   "source": [
    "#creating the distance fun\n",
    "#Ecuclidian Distance\n",
    "def distFun(x1, x2):\n",
    "    return np.sqrt(sum((x1-x2)**2))\n",
    "\n",
    "#KNN function\n",
    "def knn(X, Y, queryPoint, k=5):\n",
    "    vals = []\n",
    "    m = X.shape[0]\n",
    "    for i in range(m):\n",
    "        d = distFun(queryPoint, X[i])\n",
    "        vals.append((d, Y[i]))\n",
    "    \n",
    "    vals = sorted(vals)\n",
    "    \n",
    "    #then find the nearest k points by slicing\n",
    "    vals = vals[:k]\n",
    "    vals = np.array(vals)\n",
    "    \n",
    "    #print(vals)\n",
    "    \n",
    "    #finding the unique values and their count \n",
    "    new_vals = np.unique(vals[:,1], return_counts=True)\n",
    "    #print(new_vals)\n",
    "    \n",
    "    #returning the appropriate label acc to max frequencies\n",
    "    index = new_vals[1].argmax()\n",
    "    pred = new_vals[0][index]\n",
    "    \n",
    "    return pred"
   ]
  },
  {
   "cell_type": "markdown",
   "id": "f12475c2",
   "metadata": {},
   "source": [
    "## step 3 - making predictions"
   ]
  },
  {
   "cell_type": "code",
   "execution_count": 47,
   "id": "5162bff6",
   "metadata": {},
   "outputs": [
    {
     "name": "stdout",
     "output_type": "stream",
     "text": [
      "0.0\n"
     ]
    }
   ],
   "source": [
    "pred1 = knn(X_train, Y_train, X_test[3])\n",
    "print(pred1)"
   ]
  },
  {
   "cell_type": "code",
   "execution_count": 48,
   "id": "68f49db3",
   "metadata": {},
   "outputs": [
    {
     "name": "stdout",
     "output_type": "stream",
     "text": [
      "[0 0 1 0 1 1 0 1 0 0 1 0 1 0 0 0 0 1 1 0 0 1 0 1 0 1 0 0 0 0 0 0 1 1 1 0 0\n",
      " 0 1 0 1 0 0 0 1 0 1 0 0 0 0 0 0 1 0 0 1 1 0 1 1 0 1 0 0 0 0 0 1 0 1 0 1 0\n",
      " 0 0 0 0 0 0 0 0 0 0 0 0 0 0 0 1 0 1 0 1 0 0 0 1 1 1 0 0 1 1 0 0 0 1 1 1 0\n",
      " 0 0 0 0 0 0 0 0 0 0 0 1 0 0 0 0 1 0 0 0 0 1 1 1 1 1 0 1 0 0 1 0 0]\n"
     ]
    }
   ],
   "source": [
    "print(Y_test)"
   ]
  },
  {
   "cell_type": "code",
   "execution_count": 49,
   "id": "af0001e9",
   "metadata": {},
   "outputs": [
    {
     "name": "stdout",
     "output_type": "stream",
     "text": [
      "0.0\n"
     ]
    }
   ],
   "source": [
    "pred2 = knn(X_train, Y_train, X_test[0])\n",
    "print(pred2)"
   ]
  },
  {
   "cell_type": "code",
   "execution_count": 50,
   "id": "3ec7b3bd",
   "metadata": {},
   "outputs": [
    {
     "name": "stdout",
     "output_type": "stream",
     "text": [
      "0\n"
     ]
    }
   ],
   "source": [
    "print(Y_test[0])"
   ]
  },
  {
   "cell_type": "code",
   "execution_count": 51,
   "id": "24767432",
   "metadata": {},
   "outputs": [
    {
     "name": "stdout",
     "output_type": "stream",
     "text": [
      "1.0\n"
     ]
    }
   ],
   "source": [
    "pred3 = knn(X_train, Y_train, X_test[7])\n",
    "print(pred3)"
   ]
  },
  {
   "cell_type": "code",
   "execution_count": 52,
   "id": "f30a3f76",
   "metadata": {},
   "outputs": [
    {
     "name": "stdout",
     "output_type": "stream",
     "text": [
      "1\n"
     ]
    }
   ],
   "source": [
    "print(Y_test[7])"
   ]
  },
  {
   "cell_type": "code",
   "execution_count": 54,
   "id": "97fed620",
   "metadata": {},
   "outputs": [
    {
     "name": "stdout",
     "output_type": "stream",
     "text": [
      "1.0\n"
     ]
    }
   ],
   "source": [
    "pred4 = knn(X_train, Y_train, X_test[2])\n",
    "print(pred4)"
   ]
  },
  {
   "cell_type": "code",
   "execution_count": 55,
   "id": "0d04af2f",
   "metadata": {},
   "outputs": [
    {
     "name": "stdout",
     "output_type": "stream",
     "text": [
      "1\n"
     ]
    }
   ],
   "source": [
    "print(Y_test[2])"
   ]
  },
  {
   "cell_type": "code",
   "execution_count": 59,
   "id": "ddad9d2e",
   "metadata": {},
   "outputs": [
    {
     "name": "stdout",
     "output_type": "stream",
     "text": [
      "1.0\n"
     ]
    }
   ],
   "source": [
    "pred5 = knn(X_train, Y_train, X_test[5])\n",
    "print(pred5)"
   ]
  },
  {
   "cell_type": "code",
   "execution_count": 60,
   "id": "636bebab",
   "metadata": {},
   "outputs": [
    {
     "name": "stdout",
     "output_type": "stream",
     "text": [
      "1\n"
     ]
    }
   ],
   "source": [
    "print(Y_test[5])"
   ]
  },
  {
   "cell_type": "code",
   "execution_count": null,
   "id": "e39748c9",
   "metadata": {},
   "outputs": [],
   "source": []
  }
 ],
 "metadata": {
  "kernelspec": {
   "display_name": "Python 3",
   "language": "python",
   "name": "python3"
  },
  "language_info": {
   "codemirror_mode": {
    "name": "ipython",
    "version": 3
   },
   "file_extension": ".py",
   "mimetype": "text/x-python",
   "name": "python",
   "nbconvert_exporter": "python",
   "pygments_lexer": "ipython3",
   "version": "3.9.5"
  }
 },
 "nbformat": 4,
 "nbformat_minor": 5
}
